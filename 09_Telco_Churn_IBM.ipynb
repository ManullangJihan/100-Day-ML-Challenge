{
  "nbformat": 4,
  "nbformat_minor": 0,
  "metadata": {
    "colab": {
      "name": "Telco_Churn_IBM.ipynb",
      "provenance": [],
      "collapsed_sections": [],
      "mount_file_id": "1qqpIx77cnrR9rgRl8YckRn1bdpdtf-ly",
      "authorship_tag": "ABX9TyO0gWgekNYD6bjN0PxEFlov",
      "include_colab_link": true
    },
    "kernelspec": {
      "name": "python3",
      "display_name": "Python 3"
    },
    "language_info": {
      "name": "python"
    }
  },
  "cells": [
    {
      "cell_type": "markdown",
      "metadata": {
        "id": "view-in-github",
        "colab_type": "text"
      },
      "source": [
        "<a href=\"https://colab.research.google.com/github/ManullangJihan/100-Day-ML-Challenge/blob/main/09_Telco_Churn_IBM.ipynb\" target=\"_parent\"><img src=\"https://colab.research.google.com/assets/colab-badge.svg\" alt=\"Open In Colab\"/></a>"
      ]
    },
    {
      "cell_type": "markdown",
      "source": [
        "# Telco Churn\n",
        "\n",
        "[Source](https://www.kaggle.com/datasets/yeanzc/telco-customer-churn-ibm-dataset)"
      ],
      "metadata": {
        "id": "BBzP1PvQO6ix"
      }
    },
    {
      "cell_type": "code",
      "execution_count": 1,
      "metadata": {
        "id": "DJqMxr10OLX3"
      },
      "outputs": [],
      "source": [
        "import time\n",
        "import numpy as np\n",
        "import pandas as pd\n",
        "import matplotlib.pyplot as plt\n",
        "\n",
        "import plotly.express as px\n",
        "import plotly.graph_objects as go\n",
        "import plotly.io as pio"
      ]
    },
    {
      "cell_type": "code",
      "source": [
        "import random\n",
        "\n",
        "def Default_seed(s):\n",
        "    np.random.seed(s)\n",
        "    random.seed(s)\n",
        "\n",
        "global_seed = 42\n",
        "Default_seed(global_seed)\n",
        "\n",
        "# Setting Visualization Default\n",
        "pio.templates[\"pio.default.templates\"] = \"plotly_dark\"\n",
        "plt.rcParams[\"figure.figsize\"] = [12, 9]\n",
        "plt.rcParams.update({\"font.size\":12})"
      ],
      "metadata": {
        "id": "j48vP0xsOebY"
      },
      "execution_count": 2,
      "outputs": []
    },
    {
      "cell_type": "code",
      "source": [
        "main_df = pd.read_excel(\"/content/drive/MyDrive/Telco Churn IBM/Telco_customer_churn.xlsx\")\n",
        "n_samples, n_features = main_df.shape\n",
        "\n",
        "print(f\"Number of samples: {n_samples}\")\n",
        "print(f\"Number of features: {n_features}\\n\")\n",
        "\n",
        "main_df.head()"
      ],
      "metadata": {
        "colab": {
          "base_uri": "https://localhost:8080/",
          "height": 508
        },
        "id": "z32IeRT-O1lX",
        "outputId": "7718fcb1-fe85-4584-f65d-2b49e79313f2"
      },
      "execution_count": 3,
      "outputs": [
        {
          "output_type": "stream",
          "name": "stdout",
          "text": [
            "Number of samples: 7043\n",
            "Number of features: 33\n",
            "\n"
          ]
        },
        {
          "output_type": "execute_result",
          "data": {
            "text/plain": [
              "   CustomerID  Count        Country       State         City  Zip Code  \\\n",
              "0  3668-QPYBK      1  United States  California  Los Angeles     90003   \n",
              "1  9237-HQITU      1  United States  California  Los Angeles     90005   \n",
              "2  9305-CDSKC      1  United States  California  Los Angeles     90006   \n",
              "3  7892-POOKP      1  United States  California  Los Angeles     90010   \n",
              "4  0280-XJGEX      1  United States  California  Los Angeles     90015   \n",
              "\n",
              "                 Lat Long   Latitude   Longitude  Gender  ...        Contract  \\\n",
              "0  33.964131, -118.272783  33.964131 -118.272783    Male  ...  Month-to-month   \n",
              "1   34.059281, -118.30742  34.059281 -118.307420  Female  ...  Month-to-month   \n",
              "2  34.048013, -118.293953  34.048013 -118.293953  Female  ...  Month-to-month   \n",
              "3  34.062125, -118.315709  34.062125 -118.315709  Female  ...  Month-to-month   \n",
              "4  34.039224, -118.266293  34.039224 -118.266293    Male  ...  Month-to-month   \n",
              "\n",
              "  Paperless Billing             Payment Method  Monthly Charges Total Charges  \\\n",
              "0               Yes               Mailed check            53.85        108.15   \n",
              "1               Yes           Electronic check            70.70        151.65   \n",
              "2               Yes           Electronic check            99.65         820.5   \n",
              "3               Yes           Electronic check           104.80       3046.05   \n",
              "4               Yes  Bank transfer (automatic)           103.70        5036.3   \n",
              "\n",
              "  Churn Label Churn Value Churn Score  CLTV                   Churn Reason  \n",
              "0         Yes           1          86  3239   Competitor made better offer  \n",
              "1         Yes           1          67  2701                          Moved  \n",
              "2         Yes           1          86  5372                          Moved  \n",
              "3         Yes           1          84  5003                          Moved  \n",
              "4         Yes           1          89  5340  Competitor had better devices  \n",
              "\n",
              "[5 rows x 33 columns]"
            ],
            "text/html": [
              "\n",
              "  <div id=\"df-5eb9270d-6c27-4fbd-8aa8-234944fc56cc\">\n",
              "    <div class=\"colab-df-container\">\n",
              "      <div>\n",
              "<style scoped>\n",
              "    .dataframe tbody tr th:only-of-type {\n",
              "        vertical-align: middle;\n",
              "    }\n",
              "\n",
              "    .dataframe tbody tr th {\n",
              "        vertical-align: top;\n",
              "    }\n",
              "\n",
              "    .dataframe thead th {\n",
              "        text-align: right;\n",
              "    }\n",
              "</style>\n",
              "<table border=\"1\" class=\"dataframe\">\n",
              "  <thead>\n",
              "    <tr style=\"text-align: right;\">\n",
              "      <th></th>\n",
              "      <th>CustomerID</th>\n",
              "      <th>Count</th>\n",
              "      <th>Country</th>\n",
              "      <th>State</th>\n",
              "      <th>City</th>\n",
              "      <th>Zip Code</th>\n",
              "      <th>Lat Long</th>\n",
              "      <th>Latitude</th>\n",
              "      <th>Longitude</th>\n",
              "      <th>Gender</th>\n",
              "      <th>...</th>\n",
              "      <th>Contract</th>\n",
              "      <th>Paperless Billing</th>\n",
              "      <th>Payment Method</th>\n",
              "      <th>Monthly Charges</th>\n",
              "      <th>Total Charges</th>\n",
              "      <th>Churn Label</th>\n",
              "      <th>Churn Value</th>\n",
              "      <th>Churn Score</th>\n",
              "      <th>CLTV</th>\n",
              "      <th>Churn Reason</th>\n",
              "    </tr>\n",
              "  </thead>\n",
              "  <tbody>\n",
              "    <tr>\n",
              "      <th>0</th>\n",
              "      <td>3668-QPYBK</td>\n",
              "      <td>1</td>\n",
              "      <td>United States</td>\n",
              "      <td>California</td>\n",
              "      <td>Los Angeles</td>\n",
              "      <td>90003</td>\n",
              "      <td>33.964131, -118.272783</td>\n",
              "      <td>33.964131</td>\n",
              "      <td>-118.272783</td>\n",
              "      <td>Male</td>\n",
              "      <td>...</td>\n",
              "      <td>Month-to-month</td>\n",
              "      <td>Yes</td>\n",
              "      <td>Mailed check</td>\n",
              "      <td>53.85</td>\n",
              "      <td>108.15</td>\n",
              "      <td>Yes</td>\n",
              "      <td>1</td>\n",
              "      <td>86</td>\n",
              "      <td>3239</td>\n",
              "      <td>Competitor made better offer</td>\n",
              "    </tr>\n",
              "    <tr>\n",
              "      <th>1</th>\n",
              "      <td>9237-HQITU</td>\n",
              "      <td>1</td>\n",
              "      <td>United States</td>\n",
              "      <td>California</td>\n",
              "      <td>Los Angeles</td>\n",
              "      <td>90005</td>\n",
              "      <td>34.059281, -118.30742</td>\n",
              "      <td>34.059281</td>\n",
              "      <td>-118.307420</td>\n",
              "      <td>Female</td>\n",
              "      <td>...</td>\n",
              "      <td>Month-to-month</td>\n",
              "      <td>Yes</td>\n",
              "      <td>Electronic check</td>\n",
              "      <td>70.70</td>\n",
              "      <td>151.65</td>\n",
              "      <td>Yes</td>\n",
              "      <td>1</td>\n",
              "      <td>67</td>\n",
              "      <td>2701</td>\n",
              "      <td>Moved</td>\n",
              "    </tr>\n",
              "    <tr>\n",
              "      <th>2</th>\n",
              "      <td>9305-CDSKC</td>\n",
              "      <td>1</td>\n",
              "      <td>United States</td>\n",
              "      <td>California</td>\n",
              "      <td>Los Angeles</td>\n",
              "      <td>90006</td>\n",
              "      <td>34.048013, -118.293953</td>\n",
              "      <td>34.048013</td>\n",
              "      <td>-118.293953</td>\n",
              "      <td>Female</td>\n",
              "      <td>...</td>\n",
              "      <td>Month-to-month</td>\n",
              "      <td>Yes</td>\n",
              "      <td>Electronic check</td>\n",
              "      <td>99.65</td>\n",
              "      <td>820.5</td>\n",
              "      <td>Yes</td>\n",
              "      <td>1</td>\n",
              "      <td>86</td>\n",
              "      <td>5372</td>\n",
              "      <td>Moved</td>\n",
              "    </tr>\n",
              "    <tr>\n",
              "      <th>3</th>\n",
              "      <td>7892-POOKP</td>\n",
              "      <td>1</td>\n",
              "      <td>United States</td>\n",
              "      <td>California</td>\n",
              "      <td>Los Angeles</td>\n",
              "      <td>90010</td>\n",
              "      <td>34.062125, -118.315709</td>\n",
              "      <td>34.062125</td>\n",
              "      <td>-118.315709</td>\n",
              "      <td>Female</td>\n",
              "      <td>...</td>\n",
              "      <td>Month-to-month</td>\n",
              "      <td>Yes</td>\n",
              "      <td>Electronic check</td>\n",
              "      <td>104.80</td>\n",
              "      <td>3046.05</td>\n",
              "      <td>Yes</td>\n",
              "      <td>1</td>\n",
              "      <td>84</td>\n",
              "      <td>5003</td>\n",
              "      <td>Moved</td>\n",
              "    </tr>\n",
              "    <tr>\n",
              "      <th>4</th>\n",
              "      <td>0280-XJGEX</td>\n",
              "      <td>1</td>\n",
              "      <td>United States</td>\n",
              "      <td>California</td>\n",
              "      <td>Los Angeles</td>\n",
              "      <td>90015</td>\n",
              "      <td>34.039224, -118.266293</td>\n",
              "      <td>34.039224</td>\n",
              "      <td>-118.266293</td>\n",
              "      <td>Male</td>\n",
              "      <td>...</td>\n",
              "      <td>Month-to-month</td>\n",
              "      <td>Yes</td>\n",
              "      <td>Bank transfer (automatic)</td>\n",
              "      <td>103.70</td>\n",
              "      <td>5036.3</td>\n",
              "      <td>Yes</td>\n",
              "      <td>1</td>\n",
              "      <td>89</td>\n",
              "      <td>5340</td>\n",
              "      <td>Competitor had better devices</td>\n",
              "    </tr>\n",
              "  </tbody>\n",
              "</table>\n",
              "<p>5 rows × 33 columns</p>\n",
              "</div>\n",
              "      <button class=\"colab-df-convert\" onclick=\"convertToInteractive('df-5eb9270d-6c27-4fbd-8aa8-234944fc56cc')\"\n",
              "              title=\"Convert this dataframe to an interactive table.\"\n",
              "              style=\"display:none;\">\n",
              "        \n",
              "  <svg xmlns=\"http://www.w3.org/2000/svg\" height=\"24px\"viewBox=\"0 0 24 24\"\n",
              "       width=\"24px\">\n",
              "    <path d=\"M0 0h24v24H0V0z\" fill=\"none\"/>\n",
              "    <path d=\"M18.56 5.44l.94 2.06.94-2.06 2.06-.94-2.06-.94-.94-2.06-.94 2.06-2.06.94zm-11 1L8.5 8.5l.94-2.06 2.06-.94-2.06-.94L8.5 2.5l-.94 2.06-2.06.94zm10 10l.94 2.06.94-2.06 2.06-.94-2.06-.94-.94-2.06-.94 2.06-2.06.94z\"/><path d=\"M17.41 7.96l-1.37-1.37c-.4-.4-.92-.59-1.43-.59-.52 0-1.04.2-1.43.59L10.3 9.45l-7.72 7.72c-.78.78-.78 2.05 0 2.83L4 21.41c.39.39.9.59 1.41.59.51 0 1.02-.2 1.41-.59l7.78-7.78 2.81-2.81c.8-.78.8-2.07 0-2.86zM5.41 20L4 18.59l7.72-7.72 1.47 1.35L5.41 20z\"/>\n",
              "  </svg>\n",
              "      </button>\n",
              "      \n",
              "  <style>\n",
              "    .colab-df-container {\n",
              "      display:flex;\n",
              "      flex-wrap:wrap;\n",
              "      gap: 12px;\n",
              "    }\n",
              "\n",
              "    .colab-df-convert {\n",
              "      background-color: #E8F0FE;\n",
              "      border: none;\n",
              "      border-radius: 50%;\n",
              "      cursor: pointer;\n",
              "      display: none;\n",
              "      fill: #1967D2;\n",
              "      height: 32px;\n",
              "      padding: 0 0 0 0;\n",
              "      width: 32px;\n",
              "    }\n",
              "\n",
              "    .colab-df-convert:hover {\n",
              "      background-color: #E2EBFA;\n",
              "      box-shadow: 0px 1px 2px rgba(60, 64, 67, 0.3), 0px 1px 3px 1px rgba(60, 64, 67, 0.15);\n",
              "      fill: #174EA6;\n",
              "    }\n",
              "\n",
              "    [theme=dark] .colab-df-convert {\n",
              "      background-color: #3B4455;\n",
              "      fill: #D2E3FC;\n",
              "    }\n",
              "\n",
              "    [theme=dark] .colab-df-convert:hover {\n",
              "      background-color: #434B5C;\n",
              "      box-shadow: 0px 1px 3px 1px rgba(0, 0, 0, 0.15);\n",
              "      filter: drop-shadow(0px 1px 2px rgba(0, 0, 0, 0.3));\n",
              "      fill: #FFFFFF;\n",
              "    }\n",
              "  </style>\n",
              "\n",
              "      <script>\n",
              "        const buttonEl =\n",
              "          document.querySelector('#df-5eb9270d-6c27-4fbd-8aa8-234944fc56cc button.colab-df-convert');\n",
              "        buttonEl.style.display =\n",
              "          google.colab.kernel.accessAllowed ? 'block' : 'none';\n",
              "\n",
              "        async function convertToInteractive(key) {\n",
              "          const element = document.querySelector('#df-5eb9270d-6c27-4fbd-8aa8-234944fc56cc');\n",
              "          const dataTable =\n",
              "            await google.colab.kernel.invokeFunction('convertToInteractive',\n",
              "                                                     [key], {});\n",
              "          if (!dataTable) return;\n",
              "\n",
              "          const docLinkHtml = 'Like what you see? Visit the ' +\n",
              "            '<a target=\"_blank\" href=https://colab.research.google.com/notebooks/data_table.ipynb>data table notebook</a>'\n",
              "            + ' to learn more about interactive tables.';\n",
              "          element.innerHTML = '';\n",
              "          dataTable['output_type'] = 'display_data';\n",
              "          await google.colab.output.renderOutput(dataTable, element);\n",
              "          const docLink = document.createElement('div');\n",
              "          docLink.innerHTML = docLinkHtml;\n",
              "          element.appendChild(docLink);\n",
              "        }\n",
              "      </script>\n",
              "    </div>\n",
              "  </div>\n",
              "  "
            ]
          },
          "metadata": {},
          "execution_count": 3
        }
      ]
    },
    {
      "cell_type": "code",
      "source": [
        "main_df.isna().any()"
      ],
      "metadata": {
        "id": "tZU03D3YPQyL"
      },
      "execution_count": null,
      "outputs": []
    },
    {
      "cell_type": "code",
      "source": [
        "main_df[\"Churn Reason\"].isna().sum()"
      ],
      "metadata": {
        "colab": {
          "base_uri": "https://localhost:8080/"
        },
        "id": "cKkAGER4Plnt",
        "outputId": "1493e339-3a90-43f8-dcfb-0e10552cac49"
      },
      "execution_count": null,
      "outputs": [
        {
          "output_type": "execute_result",
          "data": {
            "text/plain": [
              "5174"
            ]
          },
          "metadata": {},
          "execution_count": 6
        }
      ]
    },
    {
      "cell_type": "code",
      "source": [
        "main_df[\"Churn Value\"].value_counts()"
      ],
      "metadata": {
        "colab": {
          "base_uri": "https://localhost:8080/"
        },
        "id": "SNJEbDKRTWZh",
        "outputId": "d4d9a8fe-c18d-4189-f862-dc9126ae997f"
      },
      "execution_count": null,
      "outputs": [
        {
          "output_type": "execute_result",
          "data": {
            "text/plain": [
              "0    5174\n",
              "1    1869\n",
              "Name: Churn Value, dtype: int64"
            ]
          },
          "metadata": {},
          "execution_count": 10
        }
      ]
    },
    {
      "cell_type": "markdown",
      "source": [
        "Churn Value: 1 = the customer left the company this quarter. 0 = the customer remained with the company."
      ],
      "metadata": {
        "id": "xngyLh0heMFe"
      }
    },
    {
      "cell_type": "code",
      "source": [
        "# Plot the distribution of target value to check balancesses of the dataset\n",
        "\n",
        "target_counts = main_df[\"Churn Value\"].value_counts().values\n",
        "target_percentage = target_counts / main_df.shape[0] * 100\n",
        "\n",
        "trace = go.Bar(\n",
        "    x = sorted(main_df[\"Churn Value\"].unique().tolist()),\n",
        "    y = target_counts,\n",
        "    text = [f\"{target_percentage[0]:.2f}%\", f\"{target_percentage[1]:.2f}%\"],\n",
        "    textposition=\"inside\"\n",
        ")\n",
        "\n",
        "layout = go.Layout(\n",
        "    title=\"Distribution of the target feature\",\n",
        "    height=500,\n",
        "    width=700,\n",
        ")\n",
        "\n",
        "fig = go.Figure(data=[trace], layout=layout)\n",
        "fig.update_traces(\n",
        "    marker_color='rgb(158,202,225)', \n",
        "    marker_line_color='rgb(8,48,107)',\n",
        "    marker_line_width=1.5, \n",
        "    opacity=0.6)\n",
        "\n",
        "fig.show()"
      ],
      "metadata": {
        "colab": {
          "base_uri": "https://localhost:8080/",
          "height": 517
        },
        "id": "gTIfxVDyXCgF",
        "outputId": "05f1200f-c19b-494f-81ff-3dcae5983552"
      },
      "execution_count": null,
      "outputs": [
        {
          "output_type": "display_data",
          "data": {
            "text/html": [
              "<html>\n",
              "<head><meta charset=\"utf-8\" /></head>\n",
              "<body>\n",
              "    <div>            <script src=\"https://cdnjs.cloudflare.com/ajax/libs/mathjax/2.7.5/MathJax.js?config=TeX-AMS-MML_SVG\"></script><script type=\"text/javascript\">if (window.MathJax) {MathJax.Hub.Config({SVG: {font: \"STIX-Web\"}});}</script>                <script type=\"text/javascript\">window.PlotlyConfig = {MathJaxConfig: 'local'};</script>\n",
              "        <script src=\"https://cdn.plot.ly/plotly-2.8.3.min.js\"></script>                <div id=\"b55c41d1-3f8d-4fa8-bf3e-896b9486261a\" class=\"plotly-graph-div\" style=\"height:500px; width:700px;\"></div>            <script type=\"text/javascript\">                                    window.PLOTLYENV=window.PLOTLYENV || {};                                    if (document.getElementById(\"b55c41d1-3f8d-4fa8-bf3e-896b9486261a\")) {                    Plotly.newPlot(                        \"b55c41d1-3f8d-4fa8-bf3e-896b9486261a\",                        [{\"text\":[\"73.46%\",\"26.54%\"],\"textposition\":\"inside\",\"x\":[0,1],\"y\":[5174,1869],\"type\":\"bar\",\"marker\":{\"line\":{\"color\":\"rgb(8,48,107)\",\"width\":1.5},\"color\":\"rgb(158,202,225)\"},\"opacity\":0.6}],                        {\"height\":500,\"title\":{\"text\":\"Distribution of the target feature\"},\"width\":700,\"template\":{\"data\":{\"bar\":[{\"error_x\":{\"color\":\"#2a3f5f\"},\"error_y\":{\"color\":\"#2a3f5f\"},\"marker\":{\"line\":{\"color\":\"#E5ECF6\",\"width\":0.5},\"pattern\":{\"fillmode\":\"overlay\",\"size\":10,\"solidity\":0.2}},\"type\":\"bar\"}],\"barpolar\":[{\"marker\":{\"line\":{\"color\":\"#E5ECF6\",\"width\":0.5},\"pattern\":{\"fillmode\":\"overlay\",\"size\":10,\"solidity\":0.2}},\"type\":\"barpolar\"}],\"carpet\":[{\"aaxis\":{\"endlinecolor\":\"#2a3f5f\",\"gridcolor\":\"white\",\"linecolor\":\"white\",\"minorgridcolor\":\"white\",\"startlinecolor\":\"#2a3f5f\"},\"baxis\":{\"endlinecolor\":\"#2a3f5f\",\"gridcolor\":\"white\",\"linecolor\":\"white\",\"minorgridcolor\":\"white\",\"startlinecolor\":\"#2a3f5f\"},\"type\":\"carpet\"}],\"choropleth\":[{\"colorbar\":{\"outlinewidth\":0,\"ticks\":\"\"},\"type\":\"choropleth\"}],\"contour\":[{\"colorbar\":{\"outlinewidth\":0,\"ticks\":\"\"},\"colorscale\":[[0.0,\"#0d0887\"],[0.1111111111111111,\"#46039f\"],[0.2222222222222222,\"#7201a8\"],[0.3333333333333333,\"#9c179e\"],[0.4444444444444444,\"#bd3786\"],[0.5555555555555556,\"#d8576b\"],[0.6666666666666666,\"#ed7953\"],[0.7777777777777778,\"#fb9f3a\"],[0.8888888888888888,\"#fdca26\"],[1.0,\"#f0f921\"]],\"type\":\"contour\"}],\"contourcarpet\":[{\"colorbar\":{\"outlinewidth\":0,\"ticks\":\"\"},\"type\":\"contourcarpet\"}],\"heatmap\":[{\"colorbar\":{\"outlinewidth\":0,\"ticks\":\"\"},\"colorscale\":[[0.0,\"#0d0887\"],[0.1111111111111111,\"#46039f\"],[0.2222222222222222,\"#7201a8\"],[0.3333333333333333,\"#9c179e\"],[0.4444444444444444,\"#bd3786\"],[0.5555555555555556,\"#d8576b\"],[0.6666666666666666,\"#ed7953\"],[0.7777777777777778,\"#fb9f3a\"],[0.8888888888888888,\"#fdca26\"],[1.0,\"#f0f921\"]],\"type\":\"heatmap\"}],\"heatmapgl\":[{\"colorbar\":{\"outlinewidth\":0,\"ticks\":\"\"},\"colorscale\":[[0.0,\"#0d0887\"],[0.1111111111111111,\"#46039f\"],[0.2222222222222222,\"#7201a8\"],[0.3333333333333333,\"#9c179e\"],[0.4444444444444444,\"#bd3786\"],[0.5555555555555556,\"#d8576b\"],[0.6666666666666666,\"#ed7953\"],[0.7777777777777778,\"#fb9f3a\"],[0.8888888888888888,\"#fdca26\"],[1.0,\"#f0f921\"]],\"type\":\"heatmapgl\"}],\"histogram\":[{\"marker\":{\"pattern\":{\"fillmode\":\"overlay\",\"size\":10,\"solidity\":0.2}},\"type\":\"histogram\"}],\"histogram2d\":[{\"colorbar\":{\"outlinewidth\":0,\"ticks\":\"\"},\"colorscale\":[[0.0,\"#0d0887\"],[0.1111111111111111,\"#46039f\"],[0.2222222222222222,\"#7201a8\"],[0.3333333333333333,\"#9c179e\"],[0.4444444444444444,\"#bd3786\"],[0.5555555555555556,\"#d8576b\"],[0.6666666666666666,\"#ed7953\"],[0.7777777777777778,\"#fb9f3a\"],[0.8888888888888888,\"#fdca26\"],[1.0,\"#f0f921\"]],\"type\":\"histogram2d\"}],\"histogram2dcontour\":[{\"colorbar\":{\"outlinewidth\":0,\"ticks\":\"\"},\"colorscale\":[[0.0,\"#0d0887\"],[0.1111111111111111,\"#46039f\"],[0.2222222222222222,\"#7201a8\"],[0.3333333333333333,\"#9c179e\"],[0.4444444444444444,\"#bd3786\"],[0.5555555555555556,\"#d8576b\"],[0.6666666666666666,\"#ed7953\"],[0.7777777777777778,\"#fb9f3a\"],[0.8888888888888888,\"#fdca26\"],[1.0,\"#f0f921\"]],\"type\":\"histogram2dcontour\"}],\"mesh3d\":[{\"colorbar\":{\"outlinewidth\":0,\"ticks\":\"\"},\"type\":\"mesh3d\"}],\"parcoords\":[{\"line\":{\"colorbar\":{\"outlinewidth\":0,\"ticks\":\"\"}},\"type\":\"parcoords\"}],\"pie\":[{\"automargin\":true,\"type\":\"pie\"}],\"scatter\":[{\"marker\":{\"colorbar\":{\"outlinewidth\":0,\"ticks\":\"\"}},\"type\":\"scatter\"}],\"scatter3d\":[{\"line\":{\"colorbar\":{\"outlinewidth\":0,\"ticks\":\"\"}},\"marker\":{\"colorbar\":{\"outlinewidth\":0,\"ticks\":\"\"}},\"type\":\"scatter3d\"}],\"scattercarpet\":[{\"marker\":{\"colorbar\":{\"outlinewidth\":0,\"ticks\":\"\"}},\"type\":\"scattercarpet\"}],\"scattergeo\":[{\"marker\":{\"colorbar\":{\"outlinewidth\":0,\"ticks\":\"\"}},\"type\":\"scattergeo\"}],\"scattergl\":[{\"marker\":{\"colorbar\":{\"outlinewidth\":0,\"ticks\":\"\"}},\"type\":\"scattergl\"}],\"scattermapbox\":[{\"marker\":{\"colorbar\":{\"outlinewidth\":0,\"ticks\":\"\"}},\"type\":\"scattermapbox\"}],\"scatterpolar\":[{\"marker\":{\"colorbar\":{\"outlinewidth\":0,\"ticks\":\"\"}},\"type\":\"scatterpolar\"}],\"scatterpolargl\":[{\"marker\":{\"colorbar\":{\"outlinewidth\":0,\"ticks\":\"\"}},\"type\":\"scatterpolargl\"}],\"scatterternary\":[{\"marker\":{\"colorbar\":{\"outlinewidth\":0,\"ticks\":\"\"}},\"type\":\"scatterternary\"}],\"surface\":[{\"colorbar\":{\"outlinewidth\":0,\"ticks\":\"\"},\"colorscale\":[[0.0,\"#0d0887\"],[0.1111111111111111,\"#46039f\"],[0.2222222222222222,\"#7201a8\"],[0.3333333333333333,\"#9c179e\"],[0.4444444444444444,\"#bd3786\"],[0.5555555555555556,\"#d8576b\"],[0.6666666666666666,\"#ed7953\"],[0.7777777777777778,\"#fb9f3a\"],[0.8888888888888888,\"#fdca26\"],[1.0,\"#f0f921\"]],\"type\":\"surface\"}],\"table\":[{\"cells\":{\"fill\":{\"color\":\"#EBF0F8\"},\"line\":{\"color\":\"white\"}},\"header\":{\"fill\":{\"color\":\"#C8D4E3\"},\"line\":{\"color\":\"white\"}},\"type\":\"table\"}]},\"layout\":{\"annotationdefaults\":{\"arrowcolor\":\"#2a3f5f\",\"arrowhead\":0,\"arrowwidth\":1},\"autotypenumbers\":\"strict\",\"coloraxis\":{\"colorbar\":{\"outlinewidth\":0,\"ticks\":\"\"}},\"colorscale\":{\"diverging\":[[0,\"#8e0152\"],[0.1,\"#c51b7d\"],[0.2,\"#de77ae\"],[0.3,\"#f1b6da\"],[0.4,\"#fde0ef\"],[0.5,\"#f7f7f7\"],[0.6,\"#e6f5d0\"],[0.7,\"#b8e186\"],[0.8,\"#7fbc41\"],[0.9,\"#4d9221\"],[1,\"#276419\"]],\"sequential\":[[0.0,\"#0d0887\"],[0.1111111111111111,\"#46039f\"],[0.2222222222222222,\"#7201a8\"],[0.3333333333333333,\"#9c179e\"],[0.4444444444444444,\"#bd3786\"],[0.5555555555555556,\"#d8576b\"],[0.6666666666666666,\"#ed7953\"],[0.7777777777777778,\"#fb9f3a\"],[0.8888888888888888,\"#fdca26\"],[1.0,\"#f0f921\"]],\"sequentialminus\":[[0.0,\"#0d0887\"],[0.1111111111111111,\"#46039f\"],[0.2222222222222222,\"#7201a8\"],[0.3333333333333333,\"#9c179e\"],[0.4444444444444444,\"#bd3786\"],[0.5555555555555556,\"#d8576b\"],[0.6666666666666666,\"#ed7953\"],[0.7777777777777778,\"#fb9f3a\"],[0.8888888888888888,\"#fdca26\"],[1.0,\"#f0f921\"]]},\"colorway\":[\"#636efa\",\"#EF553B\",\"#00cc96\",\"#ab63fa\",\"#FFA15A\",\"#19d3f3\",\"#FF6692\",\"#B6E880\",\"#FF97FF\",\"#FECB52\"],\"font\":{\"color\":\"#2a3f5f\"},\"geo\":{\"bgcolor\":\"white\",\"lakecolor\":\"white\",\"landcolor\":\"#E5ECF6\",\"showlakes\":true,\"showland\":true,\"subunitcolor\":\"white\"},\"hoverlabel\":{\"align\":\"left\"},\"hovermode\":\"closest\",\"mapbox\":{\"style\":\"light\"},\"paper_bgcolor\":\"white\",\"plot_bgcolor\":\"#E5ECF6\",\"polar\":{\"angularaxis\":{\"gridcolor\":\"white\",\"linecolor\":\"white\",\"ticks\":\"\"},\"bgcolor\":\"#E5ECF6\",\"radialaxis\":{\"gridcolor\":\"white\",\"linecolor\":\"white\",\"ticks\":\"\"}},\"scene\":{\"xaxis\":{\"backgroundcolor\":\"#E5ECF6\",\"gridcolor\":\"white\",\"gridwidth\":2,\"linecolor\":\"white\",\"showbackground\":true,\"ticks\":\"\",\"zerolinecolor\":\"white\"},\"yaxis\":{\"backgroundcolor\":\"#E5ECF6\",\"gridcolor\":\"white\",\"gridwidth\":2,\"linecolor\":\"white\",\"showbackground\":true,\"ticks\":\"\",\"zerolinecolor\":\"white\"},\"zaxis\":{\"backgroundcolor\":\"#E5ECF6\",\"gridcolor\":\"white\",\"gridwidth\":2,\"linecolor\":\"white\",\"showbackground\":true,\"ticks\":\"\",\"zerolinecolor\":\"white\"}},\"shapedefaults\":{\"line\":{\"color\":\"#2a3f5f\"}},\"ternary\":{\"aaxis\":{\"gridcolor\":\"white\",\"linecolor\":\"white\",\"ticks\":\"\"},\"baxis\":{\"gridcolor\":\"white\",\"linecolor\":\"white\",\"ticks\":\"\"},\"bgcolor\":\"#E5ECF6\",\"caxis\":{\"gridcolor\":\"white\",\"linecolor\":\"white\",\"ticks\":\"\"}},\"title\":{\"x\":0.05},\"xaxis\":{\"automargin\":true,\"gridcolor\":\"white\",\"linecolor\":\"white\",\"ticks\":\"\",\"title\":{\"standoff\":15},\"zerolinecolor\":\"white\",\"zerolinewidth\":2},\"yaxis\":{\"automargin\":true,\"gridcolor\":\"white\",\"linecolor\":\"white\",\"ticks\":\"\",\"title\":{\"standoff\":15},\"zerolinecolor\":\"white\",\"zerolinewidth\":2}}}},                        {\"responsive\": true}                    ).then(function(){\n",
              "                            \n",
              "var gd = document.getElementById('b55c41d1-3f8d-4fa8-bf3e-896b9486261a');\n",
              "var x = new MutationObserver(function (mutations, observer) {{\n",
              "        var display = window.getComputedStyle(gd).display;\n",
              "        if (!display || display === 'none') {{\n",
              "            console.log([gd, 'removed!']);\n",
              "            Plotly.purge(gd);\n",
              "            observer.disconnect();\n",
              "        }}\n",
              "}});\n",
              "\n",
              "// Listen for the removal of the full notebook cells\n",
              "var notebookContainer = gd.closest('#notebook-container');\n",
              "if (notebookContainer) {{\n",
              "    x.observe(notebookContainer, {childList: true});\n",
              "}}\n",
              "\n",
              "// Listen for the clearing of the current output cell\n",
              "var outputEl = gd.closest('.output');\n",
              "if (outputEl) {{\n",
              "    x.observe(outputEl, {childList: true});\n",
              "}}\n",
              "\n",
              "                        })                };                            </script>        </div>\n",
              "</body>\n",
              "</html>"
            ]
          },
          "metadata": {}
        }
      ]
    },
    {
      "cell_type": "code",
      "source": [
        "# Balance the dataset\n",
        "df = main_df.copy()\n",
        "left = df.loc[df[\"Churn Value\"] == 1]\n",
        "stay = df.loc[df[\"Churn Value\"] == 0][:1869]\n",
        "\n",
        "df = pd.concat([left, stay], axis=0)\n",
        "df = df.sample(frac=1)\n",
        "df = df.reset_index(drop=True)\n",
        "\n",
        "df[\"Churn Value\"].value_counts()"
      ],
      "metadata": {
        "colab": {
          "base_uri": "https://localhost:8080/"
        },
        "id": "MPDzw8i5iBIV",
        "outputId": "4281ddf8-ebc8-483a-acda-71bb73d527db"
      },
      "execution_count": 4,
      "outputs": [
        {
          "output_type": "execute_result",
          "data": {
            "text/plain": [
              "1    1869\n",
              "0    1869\n",
              "Name: Churn Value, dtype: int64"
            ]
          },
          "metadata": {},
          "execution_count": 4
        }
      ]
    },
    {
      "cell_type": "code",
      "source": [
        "df.head()"
      ],
      "metadata": {
        "id": "SzxE69UlIMxE"
      },
      "execution_count": null,
      "outputs": []
    },
    {
      "cell_type": "code",
      "source": [
        "category_cols = df.columns[df.dtypes == \"object\"]\n",
        "\n",
        "features_unique_val = []\n",
        "features_n_unique = []\n",
        "\n",
        "for col in category_cols:\n",
        "    features_unique_val.append(df[col].unique())\n",
        "    features_n_unique.append(df[col].nunique())\n",
        "\n",
        "features_n_unique_percentage = np.array(features_n_unique) / df.shape[0] * 100\n",
        "   \n",
        "category_df = pd.DataFrame(\n",
        "    {\"Features\": category_cols,\n",
        "     \"N uniques\": features_n_unique,\n",
        "     \"N uniques in Percentage\": features_n_unique_percentage,\n",
        "     \"Unique values:\": features_unique_val},\n",
        ").sort_values(by=\"N uniques\", ascending=False)\n",
        "\n",
        "\n",
        "category_df.head()"
      ],
      "metadata": {
        "colab": {
          "base_uri": "https://localhost:8080/",
          "height": 206
        },
        "id": "VQUs43RaLCbw",
        "outputId": "7fa5aaaf-1417-4212-e3f5-b76bb53d9cd7"
      },
      "execution_count": null,
      "outputs": [
        {
          "output_type": "execute_result",
          "data": {
            "text/plain": [
              "         Features  N uniques  N uniques in Percentage  \\\n",
              "0      CustomerID       3738               100.000000   \n",
              "21  Total Charges       3506                93.793472   \n",
              "4        Lat Long       1652                44.194757   \n",
              "3            City       1129                30.203317   \n",
              "23   Churn Reason         20                 0.535045   \n",
              "\n",
              "                                       Unique values:  \n",
              "0   [6267-DCFFZ, 5134-IKDAY, 3887-PBQAO, 0618-XWMS...  \n",
              "21  [2627.2, 69.8, 1216.6, 2068.55, 372.45, 4131.9...  \n",
              "4   [41.042003, -120.506086, 40.022184, -121.06238...  \n",
              "3   [Madeline, Twain, Hermosa Beach, Wasco, Shaver...  \n",
              "23  [nan, Service dissatisfaction, Long distance c...  "
            ],
            "text/html": [
              "\n",
              "  <div id=\"df-e212fa61-2d50-4f84-b2e8-b9af20a160f9\">\n",
              "    <div class=\"colab-df-container\">\n",
              "      <div>\n",
              "<style scoped>\n",
              "    .dataframe tbody tr th:only-of-type {\n",
              "        vertical-align: middle;\n",
              "    }\n",
              "\n",
              "    .dataframe tbody tr th {\n",
              "        vertical-align: top;\n",
              "    }\n",
              "\n",
              "    .dataframe thead th {\n",
              "        text-align: right;\n",
              "    }\n",
              "</style>\n",
              "<table border=\"1\" class=\"dataframe\">\n",
              "  <thead>\n",
              "    <tr style=\"text-align: right;\">\n",
              "      <th></th>\n",
              "      <th>Features</th>\n",
              "      <th>N uniques</th>\n",
              "      <th>N uniques in Percentage</th>\n",
              "      <th>Unique values:</th>\n",
              "    </tr>\n",
              "  </thead>\n",
              "  <tbody>\n",
              "    <tr>\n",
              "      <th>0</th>\n",
              "      <td>CustomerID</td>\n",
              "      <td>3738</td>\n",
              "      <td>100.000000</td>\n",
              "      <td>[6267-DCFFZ, 5134-IKDAY, 3887-PBQAO, 0618-XWMS...</td>\n",
              "    </tr>\n",
              "    <tr>\n",
              "      <th>21</th>\n",
              "      <td>Total Charges</td>\n",
              "      <td>3506</td>\n",
              "      <td>93.793472</td>\n",
              "      <td>[2627.2, 69.8, 1216.6, 2068.55, 372.45, 4131.9...</td>\n",
              "    </tr>\n",
              "    <tr>\n",
              "      <th>4</th>\n",
              "      <td>Lat Long</td>\n",
              "      <td>1652</td>\n",
              "      <td>44.194757</td>\n",
              "      <td>[41.042003, -120.506086, 40.022184, -121.06238...</td>\n",
              "    </tr>\n",
              "    <tr>\n",
              "      <th>3</th>\n",
              "      <td>City</td>\n",
              "      <td>1129</td>\n",
              "      <td>30.203317</td>\n",
              "      <td>[Madeline, Twain, Hermosa Beach, Wasco, Shaver...</td>\n",
              "    </tr>\n",
              "    <tr>\n",
              "      <th>23</th>\n",
              "      <td>Churn Reason</td>\n",
              "      <td>20</td>\n",
              "      <td>0.535045</td>\n",
              "      <td>[nan, Service dissatisfaction, Long distance c...</td>\n",
              "    </tr>\n",
              "  </tbody>\n",
              "</table>\n",
              "</div>\n",
              "      <button class=\"colab-df-convert\" onclick=\"convertToInteractive('df-e212fa61-2d50-4f84-b2e8-b9af20a160f9')\"\n",
              "              title=\"Convert this dataframe to an interactive table.\"\n",
              "              style=\"display:none;\">\n",
              "        \n",
              "  <svg xmlns=\"http://www.w3.org/2000/svg\" height=\"24px\"viewBox=\"0 0 24 24\"\n",
              "       width=\"24px\">\n",
              "    <path d=\"M0 0h24v24H0V0z\" fill=\"none\"/>\n",
              "    <path d=\"M18.56 5.44l.94 2.06.94-2.06 2.06-.94-2.06-.94-.94-2.06-.94 2.06-2.06.94zm-11 1L8.5 8.5l.94-2.06 2.06-.94-2.06-.94L8.5 2.5l-.94 2.06-2.06.94zm10 10l.94 2.06.94-2.06 2.06-.94-2.06-.94-.94-2.06-.94 2.06-2.06.94z\"/><path d=\"M17.41 7.96l-1.37-1.37c-.4-.4-.92-.59-1.43-.59-.52 0-1.04.2-1.43.59L10.3 9.45l-7.72 7.72c-.78.78-.78 2.05 0 2.83L4 21.41c.39.39.9.59 1.41.59.51 0 1.02-.2 1.41-.59l7.78-7.78 2.81-2.81c.8-.78.8-2.07 0-2.86zM5.41 20L4 18.59l7.72-7.72 1.47 1.35L5.41 20z\"/>\n",
              "  </svg>\n",
              "      </button>\n",
              "      \n",
              "  <style>\n",
              "    .colab-df-container {\n",
              "      display:flex;\n",
              "      flex-wrap:wrap;\n",
              "      gap: 12px;\n",
              "    }\n",
              "\n",
              "    .colab-df-convert {\n",
              "      background-color: #E8F0FE;\n",
              "      border: none;\n",
              "      border-radius: 50%;\n",
              "      cursor: pointer;\n",
              "      display: none;\n",
              "      fill: #1967D2;\n",
              "      height: 32px;\n",
              "      padding: 0 0 0 0;\n",
              "      width: 32px;\n",
              "    }\n",
              "\n",
              "    .colab-df-convert:hover {\n",
              "      background-color: #E2EBFA;\n",
              "      box-shadow: 0px 1px 2px rgba(60, 64, 67, 0.3), 0px 1px 3px 1px rgba(60, 64, 67, 0.15);\n",
              "      fill: #174EA6;\n",
              "    }\n",
              "\n",
              "    [theme=dark] .colab-df-convert {\n",
              "      background-color: #3B4455;\n",
              "      fill: #D2E3FC;\n",
              "    }\n",
              "\n",
              "    [theme=dark] .colab-df-convert:hover {\n",
              "      background-color: #434B5C;\n",
              "      box-shadow: 0px 1px 3px 1px rgba(0, 0, 0, 0.15);\n",
              "      filter: drop-shadow(0px 1px 2px rgba(0, 0, 0, 0.3));\n",
              "      fill: #FFFFFF;\n",
              "    }\n",
              "  </style>\n",
              "\n",
              "      <script>\n",
              "        const buttonEl =\n",
              "          document.querySelector('#df-e212fa61-2d50-4f84-b2e8-b9af20a160f9 button.colab-df-convert');\n",
              "        buttonEl.style.display =\n",
              "          google.colab.kernel.accessAllowed ? 'block' : 'none';\n",
              "\n",
              "        async function convertToInteractive(key) {\n",
              "          const element = document.querySelector('#df-e212fa61-2d50-4f84-b2e8-b9af20a160f9');\n",
              "          const dataTable =\n",
              "            await google.colab.kernel.invokeFunction('convertToInteractive',\n",
              "                                                     [key], {});\n",
              "          if (!dataTable) return;\n",
              "\n",
              "          const docLinkHtml = 'Like what you see? Visit the ' +\n",
              "            '<a target=\"_blank\" href=https://colab.research.google.com/notebooks/data_table.ipynb>data table notebook</a>'\n",
              "            + ' to learn more about interactive tables.';\n",
              "          element.innerHTML = '';\n",
              "          dataTable['output_type'] = 'display_data';\n",
              "          await google.colab.output.renderOutput(dataTable, element);\n",
              "          const docLink = document.createElement('div');\n",
              "          docLink.innerHTML = docLinkHtml;\n",
              "          element.appendChild(docLink);\n",
              "        }\n",
              "      </script>\n",
              "    </div>\n",
              "  </div>\n",
              "  "
            ]
          },
          "metadata": {},
          "execution_count": 28
        }
      ]
    },
    {
      "cell_type": "code",
      "source": [
        "df[\"Total Charges\"] = pd.to_numeric(df[\"Total Charges\"], errors=\"coerce\") \n",
        "df =  df.drop([\"CustomerID\", \"Lat Long\", \"City\"], axis=1)"
      ],
      "metadata": {
        "id": "K3JOsFriOI5q"
      },
      "execution_count": 5,
      "outputs": []
    },
    {
      "cell_type": "code",
      "source": [
        "df[\"Churn Reason\"] = df[\"Churn Reason\"].fillna(0)"
      ],
      "metadata": {
        "id": "XtusA11jO_97"
      },
      "execution_count": 6,
      "outputs": []
    },
    {
      "cell_type": "code",
      "source": [
        "df[\"Total Charges\"] = df[\"Total Charges\"].fillna(df[\"Total Charges\"].median())"
      ],
      "metadata": {
        "id": "5PGSiIIDPJ_j"
      },
      "execution_count": 7,
      "outputs": []
    },
    {
      "cell_type": "code",
      "source": [
        "# Plot the distribution of the feature"
      ],
      "metadata": {
        "id": "HtyF72ree7xI"
      },
      "execution_count": null,
      "outputs": []
    },
    {
      "cell_type": "code",
      "source": [
        "df = pd.get_dummies(df)\n",
        "X = df.drop([\"Churn Value\"], axis=1)\n",
        "y = df[\"Churn Value\"]"
      ],
      "metadata": {
        "id": "OOyXubdeKaww"
      },
      "execution_count": 8,
      "outputs": []
    },
    {
      "cell_type": "code",
      "source": [
        "from sklearn.manifold import TSNE\n",
        "from sklearn.decomposition import PCA, TruncatedSVD\n",
        "\n",
        "tsne = TSNE(n_components=3)\n",
        "X_tsne = tsne.fit_transform(X)\n",
        "\n",
        "pca = PCA(n_components=3)\n",
        "X_pca = pca.fit_transform(X)\n",
        "\n",
        "svd = TruncatedSVD(n_components=3)\n",
        "X_svd = svd.fit_transform(X)"
      ],
      "metadata": {
        "id": "tT2wrfFnR48Z"
      },
      "execution_count": null,
      "outputs": []
    },
    {
      "cell_type": "code",
      "source": [
        "def plot_data(data, title=None):\n",
        "    fig = go.Figure()\n",
        "    \n",
        "    for i in range(2):\n",
        "        fig.add_trace(\n",
        "            go.Scatter3d(\n",
        "                x = data[y == i, 0][:100],\n",
        "                y = data[y == i, 1][:100],\n",
        "                z = data[y == i, 2][:100],\n",
        "                mode = \"markers\",\n",
        "                name = f\"Target {i}\",\n",
        "            )\n",
        "        )\n",
        "    \n",
        "    fig.update_layout(\n",
        "        title = title,\n",
        "        height = 500,\n",
        "        width = 800,\n",
        "        scene=dict(\n",
        "            xaxis = dict(\n",
        "                title=\"Component 1\",\n",
        "                showticklabels=False),\n",
        "            yaxis = dict(\n",
        "                title=\"Component 2\",\n",
        "                showticklabels=False),\n",
        "            zaxis = dict(\n",
        "                title=\"Component 3\",\n",
        "                showticklabels=False)\n",
        "            ),\n",
        "        )\n",
        "    \n",
        "    fig.show()\n",
        "\n",
        "\n",
        "plot_data(X_tsne, title=\"<b>TSNE Decomposition</b>\")"
      ],
      "metadata": {
        "colab": {
          "base_uri": "https://localhost:8080/",
          "height": 517
        },
        "id": "CiGJFAPIH_Dx",
        "outputId": "607f4860-e09a-4187-a0e4-70578cd462e4"
      },
      "execution_count": null,
      "outputs": [
        {
          "output_type": "display_data",
          "data": {
            "text/html": [
              "<html>\n",
              "<head><meta charset=\"utf-8\" /></head>\n",
              "<body>\n",
              "    <div>            <script src=\"https://cdnjs.cloudflare.com/ajax/libs/mathjax/2.7.5/MathJax.js?config=TeX-AMS-MML_SVG\"></script><script type=\"text/javascript\">if (window.MathJax) {MathJax.Hub.Config({SVG: {font: \"STIX-Web\"}});}</script>                <script type=\"text/javascript\">window.PlotlyConfig = {MathJaxConfig: 'local'};</script>\n",
              "        <script src=\"https://cdn.plot.ly/plotly-2.8.3.min.js\"></script>                <div id=\"7867fe08-28fe-4256-ac8d-035c5244e63c\" class=\"plotly-graph-div\" style=\"height:500px; width:800px;\"></div>            <script type=\"text/javascript\">                                    window.PLOTLYENV=window.PLOTLYENV || {};                                    if (document.getElementById(\"7867fe08-28fe-4256-ac8d-035c5244e63c\")) {                    Plotly.newPlot(                        \"7867fe08-28fe-4256-ac8d-035c5244e63c\",                        [{\"mode\":\"markers\",\"name\":\"Target 0\",\"x\":[14.581317901611328,-0.9942660331726074,13.622723579406738,2.604295015335083,-1.0181974172592163,9.06644058227539,-0.7686511874198914,-6.150504112243652,-8.31347942352295,6.674111843109131,6.902397632598877,-9.691859245300293,-0.04262952134013176,-1.3866459131240845,4.09208345413208,6.952622890472412,4.668105602264404,-3.916592836380005,6.232885837554932,13.637126922607422,5.447085857391357,-3.7418625354766846,-1.4969432353973389,-7.6947102546691895,-8.159282684326172,11.707079887390137,4.021637439727783,-8.285606384277344,-7.893545150756836,-2.9210097789764404,-0.29593539237976074,-7.193881511688232,10.946049690246582,9.291291236877441,-4.484567642211914,-8.839103698730469,8.749784469604492,8.189687728881836,11.04857349395752,-6.226292610168457,-6.812795162200928,-0.8553512096405029,5.45080041885376,-8.56579303741455,-1.116184949874878,-0.32755517959594727,-8.573369979858398,1.8652033805847168,1.1450406312942505,-0.6465359926223755,-1.8055369853973389,4.575699329376221,-3.5341007709503174,-1.8228672742843628,5.431406021118164,15.17587947845459,13.28710651397705,11.409784317016602,-4.8191304206848145,-3.2642838954925537,-1.3369332551956177,-6.85291862487793,-2.2499027252197266,5.518037796020508,3.232841968536377,13.449978828430176,-8.575702667236328,-0.6688907742500305,8.725379943847656,1.9589712619781494,3.58251690864563,6.261313438415527,10.623177528381348,7.433006286621094,-6.610379695892334,7.668107509613037,0.8623043894767761,-2.639631509780884,-0.6626735925674438,-2.8035590648651123,-7.782270431518555,-1.8744169473648071,-8.033670425415039,6.7973504066467285,11.231895446777344,-11.203210830688477,15.988809585571289,5.422767162322998,11.886881828308105,-4.457188606262207,0.6299741268157959,9.28793716430664,5.577728748321533,12.068321228027344,-8.600809097290039,-8.605511665344238,9.446200370788574,4.8375420570373535,-1.7253925800323486,5.639825344085693],\"y\":[-7.172323226928711,-5.632433891296387,-10.219721794128418,6.736553192138672,7.440127372741699,3.6944782733917236,-11.983685493469238,10.114891052246094,2.037837505340576,-8.734874725341797,-8.082208633422852,0.4592934250831604,7.357850074768066,0.3292725086212158,8.467336654663086,-6.193944454193115,-3.630615234375,-0.12199747562408447,5.5623393058776855,-1.5031934976577759,3.5264973640441895,-8.661622047424316,4.997033596038818,-12.148386001586914,1.0386121273040771,-9.531023979187012,6.771153450012207,4.7661919593811035,-10.480948448181152,-5.913759708404541,10.052957534790039,-0.31182757019996643,-1.08639395236969,-12.149007797241211,11.161094665527344,4.8046698570251465,-5.40383768081665,6.307524681091309,-1.6732101440429688,-4.118575572967529,5.885171413421631,6.70115327835083,4.036388397216797,-15.11457633972168,12.36231517791748,-6.395870208740234,0.4161500930786133,2.5915067195892334,6.125350475311279,4.124444484710693,-0.43008023500442505,5.9817609786987305,12.269180297851562,-8.080443382263184,4.085158824920654,-6.9183220863342285,-5.235954761505127,-9.602213859558105,4.650738716125488,0.45215165615081787,12.81307315826416,4.643255233764648,-8.438272476196289,10.690394401550293,-11.257055282592773,-11.170384407043457,2.4059805870056152,11.003423690795898,-3.345005512237549,2.6719906330108643,5.615865707397461,-11.253385543823242,-4.6297078132629395,-0.5188471674919128,-6.034432888031006,-1.018844485282898,-11.94399642944336,2.1308434009552,8.834028244018555,2.6409413814544678,-12.758076667785645,12.390506744384766,5.135962009429932,-8.619996070861816,-2.298147678375244,-10.81010913848877,-4.656698703765869,10.21905517578125,-5.81541633605957,-11.06355094909668,6.1582932472229,-3.0274510383605957,-2.8073956966400146,-12.491021156311035,5.019106388092041,-6.798191547393799,-3.2942099571228027,-3.845262289047241,4.558044910430908,5.66016960144043],\"z\":[4.125714302062988,-11.139527320861816,-2.0678048133850098,1.149735689163208,-8.494159698486328,7.254514217376709,-1.7289930582046509,2.6551406383514404,1.087404489517212,-6.769574165344238,-2.6886446475982666,3.3736400604248047,9.575923919677734,-2.1594738960266113,4.104088306427002,2.889309883117676,2.1773078441619873,1.7657731771469116,2.2026360034942627,3.1666574478149414,-1.2565172910690308,-3.4838290214538574,-5.293150424957275,-5.098803997039795,1.6047314405441284,-4.29959774017334,-1.5867055654525757,-2.4435880184173584,-10.152416229248047,-9.393173217773438,-2.624851703643799,3.4256839752197266,8.924378395080566,-1.5407980680465698,4.005605697631836,7.5929341316223145,2.6268041133880615,4.341121196746826,3.9136130809783936,-13.748812675476074,-0.4813552498817444,1.4197461605072021,1.605346441268921,-2.4714787006378174,3.1714813709259033,-10.487839698791504,2.611612558364868,-2.874490976333618,-7.151998519897461,3.1371827125549316,-1.3587028980255127,6.660886287689209,1.931305170059204,-4.4394941329956055,4.752678871154785,5.3143768310546875,2.6753933429718018,-4.754083156585693,7.234252452850342,-2.294229507446289,7.626409530639648,-1.0509830713272095,-3.049675226211548,3.8814258575439453,-2.6466526985168457,-1.2356656789779663,3.985233783721924,11.439472198486328,5.075946807861328,7.191766738891602,0.5296786427497864,-2.018307685852051,1.2548820972442627,1.6874661445617676,-14.334735870361328,4.07008171081543,-1.4914648532867432,7.730914115905762,-8.68602466583252,7.586269378662109,-2.3805530071258545,-0.29134753346443176,-1.371206521987915,-6.6879801750183105,8.49295425415039,-0.29251402616500854,4.674098968505859,2.048218250274658,3.956841230392456,-8.054952621459961,11.19240951538086,6.511105537414551,5.7129597663879395,0.15297333896160126,0.28736138343811035,-3.934964895248413,0.8448043465614319,2.1785356998443604,3.2997024059295654,-1.7400665283203125],\"type\":\"scatter3d\"},{\"mode\":\"markers\",\"name\":\"Target 1\",\"x\":[-3.1755669116973877,6.852515697479248,-4.975991725921631,-7.996139049530029,-0.38001883029937744,5.726053237915039,-10.282768249511719,-1.837430477142334,6.867313385009766,-7.0979485511779785,-5.718330383300781,7.040055751800537,-4.585237503051758,-0.3181207776069641,-10.847179412841797,-2.902663469314575,-10.068550109863281,8.778894424438477,3.641268491744995,8.080483436584473,-6.409132480621338,9.432015419006348,-6.5069684982299805,-2.745115041732788,-0.615169107913971,5.1936798095703125,-7.687446594238281,-3.515810251235962,-9.807680130004883,-8.231623649597168,-1.6361379623413086,-5.012694835662842,-6.260000705718994,-4.360994338989258,-10.68075180053711,-7.157835960388184,-10.870397567749023,-7.5860490798950195,-1.4331029653549194,-6.320151329040527,-9.621301651000977,3.3494744300842285,-7.393758773803711,-11.30163860321045,-3.3855173587799072,-10.058676719665527,6.992762088775635,8.857927322387695,-3.3829705715179443,-4.508184909820557,-4.905162811279297,-7.0625319480896,-5.27107048034668,-11.197698593139648,7.022350311279297,8.055646896362305,-1.5619614124298096,0.9300917387008667,1.9383612871170044,3.252500057220459,0.8387598991394043,-5.724483013153076,0.6039344072341919,-7.803204536437988,-0.16799911856651306,1.590829610824585,10.703081130981445,-2.962188959121704,-1.8539834022521973,-10.494543075561523,3.2878310680389404,-6.50443696975708,0.2507389485836029,10.565909385681152,-8.0317964553833,11.060821533203125,-10.144232749938965,-6.0537190437316895,-3.003229856491089,1.8218392133712769,-7.687077522277832,-11.282129287719727,-6.767975330352783,-0.01047404482960701,-2.8458991050720215,11.470954895019531,-7.53708553314209,-6.40854024887085,-8.011597633361816,3.669395685195923,3.2209551334381104,-0.05439100041985512,4.4564385414123535,-0.7127989530563354,0.8931733965873718,3.3330142498016357,-3.0746946334838867,-7.0998125076293945,-10.973058700561523,2.3807661533355713],\"y\":[12.308592796325684,-2.753800868988037,-11.855047225952148,4.9806904792785645,-12.069401741027832,10.557584762573242,-9.10049057006836,-12.69709300994873,-8.331832885742188,-4.737402439117432,6.849649906158447,-6.09653377532959,-11.796536445617676,13.427970886230469,-11.653398513793945,-5.4041948318481445,-11.319767951965332,-12.495105743408203,-11.053442001342773,1.3821969032287598,-4.224238872528076,-6.347804069519043,-3.8802120685577393,0.9201335906982422,13.788905143737793,10.825492858886719,-6.516217231750488,12.04977035522461,-9.398154258728027,-10.324470520019531,-11.838908195495605,7.959571838378906,-11.584600448608398,9.653349876403809,-15.623016357421875,8.97089958190918,-11.744614601135254,3.338136911392212,12.896751403808594,-11.25192642211914,-7.542242050170898,15.344511985778809,-12.746269226074219,-14.161578178405762,-7.767101764678955,0.9958869218826294,-6.190349102020264,-10.131082534790039,11.375418663024902,11.260201454162598,-6.798233509063721,6.2376627922058105,-13.428645133972168,-15.713062286376953,-8.81529426574707,2.848513603210449,10.950132369995117,13.669775009155273,-11.276593208312988,12.957559585571289,12.33088207244873,-13.77630615234375,0.6317652463912964,-10.180523872375488,9.305984497070312,7.261504650115967,-2.070868730545044,-1.2421623468399048,1.8431764841079712,-14.53013801574707,10.821677207946777,7.451531410217285,13.74621868133545,-12.706616401672363,-10.113842964172363,-5.067514896392822,-10.991443634033203,9.49455451965332,-12.840312004089355,-13.343070983886719,8.274213790893555,-15.173690795898438,9.433151245117188,7.66198205947876,12.589347839355469,-10.491933822631836,-6.603955268859863,9.3070650100708,5.561798095703125,7.441152572631836,-9.883282661437988,6.886368751525879,15.408740043640137,-1.282124400138855,7.675790309906006,2.919633150100708,6.695851802825928,7.260995388031006,-10.123868942260742,-2.9507927894592285],\"z\":[6.14226770401001,2.142608165740967,-6.2726335525512695,-3.048393964767456,-2.929046869277954,3.090315818786621,-5.238842487335205,-2.1181108951568604,-3.8184587955474854,-11.144623756408691,-5.546008586883545,3.6938397884368896,-5.277472972869873,5.906624794006348,-8.085234642028809,-10.162686347961426,-9.294078826904297,-1.755969524383545,-4.323318004608154,8.50032901763916,-12.933551788330078,4.586041450500488,-12.644482612609863,-2.9055559635162354,1.8933370113372803,4.300424575805664,-11.563407897949219,6.637701988220215,1.8711718320846558,-5.049886226654053,-3.4989590644836426,-5.210756778717041,-2.08699369430542,-1.405959963798523,1.5011265277862549,5.553328990936279,-7.884355545043945,-4.3141703605651855,7.056848526000977,2.1714587211608887,-1.7619757652282715,1.584443211555481,1.9390044212341309,0.32979434728622437,-3.9034981727600098,2.6258277893066406,3.326625347137451,-5.249575614929199,0.4295797049999237,0.648949384689331,-14.767596244812012,8.065823554992676,-3.3925533294677734,-2.9267427921295166,-3.2230446338653564,-0.540046751499176,-0.06997628509998322,7.983344554901123,-1.8056278228759766,5.718014717102051,4.976676940917969,0.8965892791748047,6.316714286804199,-10.476099014282227,12.00328254699707,11.115036964416504,6.112162113189697,2.0590453147888184,-3.4829461574554443,2.0802555084228516,-2.8371307849884033,9.708740234375,-3.2844130992889404,-0.6877472400665283,1.5365846157073975,1.948539137840271,-9.904949188232422,0.507474958896637,0.708490788936615,-0.24163459241390228,4.257919788360596,-3.4844095706939697,2.495561122894287,9.543291091918945,5.141316890716553,-2.795057535171509,-11.429962158203125,0.9079319834709167,8.301560401916504,-2.7087690830230713,-6.4829583168029785,5.93250036239624,1.3930888175964355,0.6316882967948914,0.5881800651550293,-3.1301321983337402,-9.94426441192627,8.467370986938477,-5.267234802246094,2.0968260765075684],\"type\":\"scatter3d\"}],                        {\"template\":{\"data\":{\"bar\":[{\"error_x\":{\"color\":\"#2a3f5f\"},\"error_y\":{\"color\":\"#2a3f5f\"},\"marker\":{\"line\":{\"color\":\"#E5ECF6\",\"width\":0.5},\"pattern\":{\"fillmode\":\"overlay\",\"size\":10,\"solidity\":0.2}},\"type\":\"bar\"}],\"barpolar\":[{\"marker\":{\"line\":{\"color\":\"#E5ECF6\",\"width\":0.5},\"pattern\":{\"fillmode\":\"overlay\",\"size\":10,\"solidity\":0.2}},\"type\":\"barpolar\"}],\"carpet\":[{\"aaxis\":{\"endlinecolor\":\"#2a3f5f\",\"gridcolor\":\"white\",\"linecolor\":\"white\",\"minorgridcolor\":\"white\",\"startlinecolor\":\"#2a3f5f\"},\"baxis\":{\"endlinecolor\":\"#2a3f5f\",\"gridcolor\":\"white\",\"linecolor\":\"white\",\"minorgridcolor\":\"white\",\"startlinecolor\":\"#2a3f5f\"},\"type\":\"carpet\"}],\"choropleth\":[{\"colorbar\":{\"outlinewidth\":0,\"ticks\":\"\"},\"type\":\"choropleth\"}],\"contour\":[{\"colorbar\":{\"outlinewidth\":0,\"ticks\":\"\"},\"colorscale\":[[0.0,\"#0d0887\"],[0.1111111111111111,\"#46039f\"],[0.2222222222222222,\"#7201a8\"],[0.3333333333333333,\"#9c179e\"],[0.4444444444444444,\"#bd3786\"],[0.5555555555555556,\"#d8576b\"],[0.6666666666666666,\"#ed7953\"],[0.7777777777777778,\"#fb9f3a\"],[0.8888888888888888,\"#fdca26\"],[1.0,\"#f0f921\"]],\"type\":\"contour\"}],\"contourcarpet\":[{\"colorbar\":{\"outlinewidth\":0,\"ticks\":\"\"},\"type\":\"contourcarpet\"}],\"heatmap\":[{\"colorbar\":{\"outlinewidth\":0,\"ticks\":\"\"},\"colorscale\":[[0.0,\"#0d0887\"],[0.1111111111111111,\"#46039f\"],[0.2222222222222222,\"#7201a8\"],[0.3333333333333333,\"#9c179e\"],[0.4444444444444444,\"#bd3786\"],[0.5555555555555556,\"#d8576b\"],[0.6666666666666666,\"#ed7953\"],[0.7777777777777778,\"#fb9f3a\"],[0.8888888888888888,\"#fdca26\"],[1.0,\"#f0f921\"]],\"type\":\"heatmap\"}],\"heatmapgl\":[{\"colorbar\":{\"outlinewidth\":0,\"ticks\":\"\"},\"colorscale\":[[0.0,\"#0d0887\"],[0.1111111111111111,\"#46039f\"],[0.2222222222222222,\"#7201a8\"],[0.3333333333333333,\"#9c179e\"],[0.4444444444444444,\"#bd3786\"],[0.5555555555555556,\"#d8576b\"],[0.6666666666666666,\"#ed7953\"],[0.7777777777777778,\"#fb9f3a\"],[0.8888888888888888,\"#fdca26\"],[1.0,\"#f0f921\"]],\"type\":\"heatmapgl\"}],\"histogram\":[{\"marker\":{\"pattern\":{\"fillmode\":\"overlay\",\"size\":10,\"solidity\":0.2}},\"type\":\"histogram\"}],\"histogram2d\":[{\"colorbar\":{\"outlinewidth\":0,\"ticks\":\"\"},\"colorscale\":[[0.0,\"#0d0887\"],[0.1111111111111111,\"#46039f\"],[0.2222222222222222,\"#7201a8\"],[0.3333333333333333,\"#9c179e\"],[0.4444444444444444,\"#bd3786\"],[0.5555555555555556,\"#d8576b\"],[0.6666666666666666,\"#ed7953\"],[0.7777777777777778,\"#fb9f3a\"],[0.8888888888888888,\"#fdca26\"],[1.0,\"#f0f921\"]],\"type\":\"histogram2d\"}],\"histogram2dcontour\":[{\"colorbar\":{\"outlinewidth\":0,\"ticks\":\"\"},\"colorscale\":[[0.0,\"#0d0887\"],[0.1111111111111111,\"#46039f\"],[0.2222222222222222,\"#7201a8\"],[0.3333333333333333,\"#9c179e\"],[0.4444444444444444,\"#bd3786\"],[0.5555555555555556,\"#d8576b\"],[0.6666666666666666,\"#ed7953\"],[0.7777777777777778,\"#fb9f3a\"],[0.8888888888888888,\"#fdca26\"],[1.0,\"#f0f921\"]],\"type\":\"histogram2dcontour\"}],\"mesh3d\":[{\"colorbar\":{\"outlinewidth\":0,\"ticks\":\"\"},\"type\":\"mesh3d\"}],\"parcoords\":[{\"line\":{\"colorbar\":{\"outlinewidth\":0,\"ticks\":\"\"}},\"type\":\"parcoords\"}],\"pie\":[{\"automargin\":true,\"type\":\"pie\"}],\"scatter\":[{\"marker\":{\"colorbar\":{\"outlinewidth\":0,\"ticks\":\"\"}},\"type\":\"scatter\"}],\"scatter3d\":[{\"line\":{\"colorbar\":{\"outlinewidth\":0,\"ticks\":\"\"}},\"marker\":{\"colorbar\":{\"outlinewidth\":0,\"ticks\":\"\"}},\"type\":\"scatter3d\"}],\"scattercarpet\":[{\"marker\":{\"colorbar\":{\"outlinewidth\":0,\"ticks\":\"\"}},\"type\":\"scattercarpet\"}],\"scattergeo\":[{\"marker\":{\"colorbar\":{\"outlinewidth\":0,\"ticks\":\"\"}},\"type\":\"scattergeo\"}],\"scattergl\":[{\"marker\":{\"colorbar\":{\"outlinewidth\":0,\"ticks\":\"\"}},\"type\":\"scattergl\"}],\"scattermapbox\":[{\"marker\":{\"colorbar\":{\"outlinewidth\":0,\"ticks\":\"\"}},\"type\":\"scattermapbox\"}],\"scatterpolar\":[{\"marker\":{\"colorbar\":{\"outlinewidth\":0,\"ticks\":\"\"}},\"type\":\"scatterpolar\"}],\"scatterpolargl\":[{\"marker\":{\"colorbar\":{\"outlinewidth\":0,\"ticks\":\"\"}},\"type\":\"scatterpolargl\"}],\"scatterternary\":[{\"marker\":{\"colorbar\":{\"outlinewidth\":0,\"ticks\":\"\"}},\"type\":\"scatterternary\"}],\"surface\":[{\"colorbar\":{\"outlinewidth\":0,\"ticks\":\"\"},\"colorscale\":[[0.0,\"#0d0887\"],[0.1111111111111111,\"#46039f\"],[0.2222222222222222,\"#7201a8\"],[0.3333333333333333,\"#9c179e\"],[0.4444444444444444,\"#bd3786\"],[0.5555555555555556,\"#d8576b\"],[0.6666666666666666,\"#ed7953\"],[0.7777777777777778,\"#fb9f3a\"],[0.8888888888888888,\"#fdca26\"],[1.0,\"#f0f921\"]],\"type\":\"surface\"}],\"table\":[{\"cells\":{\"fill\":{\"color\":\"#EBF0F8\"},\"line\":{\"color\":\"white\"}},\"header\":{\"fill\":{\"color\":\"#C8D4E3\"},\"line\":{\"color\":\"white\"}},\"type\":\"table\"}]},\"layout\":{\"annotationdefaults\":{\"arrowcolor\":\"#2a3f5f\",\"arrowhead\":0,\"arrowwidth\":1},\"autotypenumbers\":\"strict\",\"coloraxis\":{\"colorbar\":{\"outlinewidth\":0,\"ticks\":\"\"}},\"colorscale\":{\"diverging\":[[0,\"#8e0152\"],[0.1,\"#c51b7d\"],[0.2,\"#de77ae\"],[0.3,\"#f1b6da\"],[0.4,\"#fde0ef\"],[0.5,\"#f7f7f7\"],[0.6,\"#e6f5d0\"],[0.7,\"#b8e186\"],[0.8,\"#7fbc41\"],[0.9,\"#4d9221\"],[1,\"#276419\"]],\"sequential\":[[0.0,\"#0d0887\"],[0.1111111111111111,\"#46039f\"],[0.2222222222222222,\"#7201a8\"],[0.3333333333333333,\"#9c179e\"],[0.4444444444444444,\"#bd3786\"],[0.5555555555555556,\"#d8576b\"],[0.6666666666666666,\"#ed7953\"],[0.7777777777777778,\"#fb9f3a\"],[0.8888888888888888,\"#fdca26\"],[1.0,\"#f0f921\"]],\"sequentialminus\":[[0.0,\"#0d0887\"],[0.1111111111111111,\"#46039f\"],[0.2222222222222222,\"#7201a8\"],[0.3333333333333333,\"#9c179e\"],[0.4444444444444444,\"#bd3786\"],[0.5555555555555556,\"#d8576b\"],[0.6666666666666666,\"#ed7953\"],[0.7777777777777778,\"#fb9f3a\"],[0.8888888888888888,\"#fdca26\"],[1.0,\"#f0f921\"]]},\"colorway\":[\"#636efa\",\"#EF553B\",\"#00cc96\",\"#ab63fa\",\"#FFA15A\",\"#19d3f3\",\"#FF6692\",\"#B6E880\",\"#FF97FF\",\"#FECB52\"],\"font\":{\"color\":\"#2a3f5f\"},\"geo\":{\"bgcolor\":\"white\",\"lakecolor\":\"white\",\"landcolor\":\"#E5ECF6\",\"showlakes\":true,\"showland\":true,\"subunitcolor\":\"white\"},\"hoverlabel\":{\"align\":\"left\"},\"hovermode\":\"closest\",\"mapbox\":{\"style\":\"light\"},\"paper_bgcolor\":\"white\",\"plot_bgcolor\":\"#E5ECF6\",\"polar\":{\"angularaxis\":{\"gridcolor\":\"white\",\"linecolor\":\"white\",\"ticks\":\"\"},\"bgcolor\":\"#E5ECF6\",\"radialaxis\":{\"gridcolor\":\"white\",\"linecolor\":\"white\",\"ticks\":\"\"}},\"scene\":{\"xaxis\":{\"backgroundcolor\":\"#E5ECF6\",\"gridcolor\":\"white\",\"gridwidth\":2,\"linecolor\":\"white\",\"showbackground\":true,\"ticks\":\"\",\"zerolinecolor\":\"white\"},\"yaxis\":{\"backgroundcolor\":\"#E5ECF6\",\"gridcolor\":\"white\",\"gridwidth\":2,\"linecolor\":\"white\",\"showbackground\":true,\"ticks\":\"\",\"zerolinecolor\":\"white\"},\"zaxis\":{\"backgroundcolor\":\"#E5ECF6\",\"gridcolor\":\"white\",\"gridwidth\":2,\"linecolor\":\"white\",\"showbackground\":true,\"ticks\":\"\",\"zerolinecolor\":\"white\"}},\"shapedefaults\":{\"line\":{\"color\":\"#2a3f5f\"}},\"ternary\":{\"aaxis\":{\"gridcolor\":\"white\",\"linecolor\":\"white\",\"ticks\":\"\"},\"baxis\":{\"gridcolor\":\"white\",\"linecolor\":\"white\",\"ticks\":\"\"},\"bgcolor\":\"#E5ECF6\",\"caxis\":{\"gridcolor\":\"white\",\"linecolor\":\"white\",\"ticks\":\"\"}},\"title\":{\"x\":0.05},\"xaxis\":{\"automargin\":true,\"gridcolor\":\"white\",\"linecolor\":\"white\",\"ticks\":\"\",\"title\":{\"standoff\":15},\"zerolinecolor\":\"white\",\"zerolinewidth\":2},\"yaxis\":{\"automargin\":true,\"gridcolor\":\"white\",\"linecolor\":\"white\",\"ticks\":\"\",\"title\":{\"standoff\":15},\"zerolinecolor\":\"white\",\"zerolinewidth\":2}}},\"scene\":{\"xaxis\":{\"title\":{\"text\":\"Component 1\"},\"showticklabels\":false},\"yaxis\":{\"title\":{\"text\":\"Component 2\"},\"showticklabels\":false},\"zaxis\":{\"title\":{\"text\":\"Component 3\"},\"showticklabels\":false}},\"title\":{\"text\":\"<b>TSNE Decomposition</b>\"},\"height\":500,\"width\":800},                        {\"responsive\": true}                    ).then(function(){\n",
              "                            \n",
              "var gd = document.getElementById('7867fe08-28fe-4256-ac8d-035c5244e63c');\n",
              "var x = new MutationObserver(function (mutations, observer) {{\n",
              "        var display = window.getComputedStyle(gd).display;\n",
              "        if (!display || display === 'none') {{\n",
              "            console.log([gd, 'removed!']);\n",
              "            Plotly.purge(gd);\n",
              "            observer.disconnect();\n",
              "        }}\n",
              "}});\n",
              "\n",
              "// Listen for the removal of the full notebook cells\n",
              "var notebookContainer = gd.closest('#notebook-container');\n",
              "if (notebookContainer) {{\n",
              "    x.observe(notebookContainer, {childList: true});\n",
              "}}\n",
              "\n",
              "// Listen for the clearing of the current output cell\n",
              "var outputEl = gd.closest('.output');\n",
              "if (outputEl) {{\n",
              "    x.observe(outputEl, {childList: true});\n",
              "}}\n",
              "\n",
              "                        })                };                            </script>        </div>\n",
              "</body>\n",
              "</html>"
            ]
          },
          "metadata": {}
        }
      ]
    },
    {
      "cell_type": "code",
      "source": [
        "from sklearn.model_selection import train_test_split\n",
        "from sklearn.preprocessing import StandardScaler\n",
        "from sklearn.linear_model import LogisticRegression\n",
        "from sklearn.tree import DecisionTreeClassifier\n",
        "from sklearn.svm import SVC\n",
        "\n",
        "X_train, X_test, y_train, y_test = train_test_split(\n",
        "    X, y, test_size=0.2, shuffle=True, random_state=global_seed\n",
        ")\n"
      ],
      "metadata": {
        "id": "CPJAlLl7TJcs"
      },
      "execution_count": 19,
      "outputs": []
    },
    {
      "cell_type": "code",
      "source": [
        "ss = StandardScaler()\n",
        "X_train = ss.fit_transform(X_train)\n",
        "X_test = ss.transform(X_test)"
      ],
      "metadata": {
        "id": "HKHXCi9Jib1J"
      },
      "execution_count": 20,
      "outputs": []
    },
    {
      "cell_type": "code",
      "source": [
        "svc = SVC()\n",
        "svc.fit(X_train, y_train)\n",
        "\n",
        "acc = svc.score(X_test, y_test)\n",
        "print(f\"Accuracy: {acc:.4f}\")"
      ],
      "metadata": {
        "colab": {
          "base_uri": "https://localhost:8080/"
        },
        "id": "Q6LbaQ2riZwU",
        "outputId": "111ea5e9-f199-4567-f9bd-5f3887a022ea"
      },
      "execution_count": 21,
      "outputs": [
        {
          "output_type": "stream",
          "name": "stdout",
          "text": [
            "Accuracy: 1.0000\n"
          ]
        }
      ]
    },
    {
      "cell_type": "code",
      "source": [
        "clf = LogisticRegression(max_iter=1e6)\n",
        "clf.fit(X_train, y_train)\n",
        "\n",
        "acc = clf.score(X_test, y_test)\n",
        "print(f\"Accuracy: {acc:.4f}\")"
      ],
      "metadata": {
        "colab": {
          "base_uri": "https://localhost:8080/"
        },
        "id": "PDB-89oZhM9i",
        "outputId": "e60d7b84-febf-4e9d-9cf9-3b0edc248976"
      },
      "execution_count": 22,
      "outputs": [
        {
          "output_type": "stream",
          "name": "stdout",
          "text": [
            "Accuracy: 1.0000\n"
          ]
        }
      ]
    },
    {
      "cell_type": "code",
      "source": [
        "tree = DecisionTreeClassifier()\n",
        "tree.fit(X_train, y_train)\n",
        "\n",
        "acc = tree.score(X_test, y_test)\n",
        "print(f\"Accuracy: {acc:.4f}\")"
      ],
      "metadata": {
        "colab": {
          "base_uri": "https://localhost:8080/"
        },
        "id": "-u6WDtD4hmdq",
        "outputId": "e9f5da29-e5c2-4134-d890-5f1eca4753dc"
      },
      "execution_count": 23,
      "outputs": [
        {
          "output_type": "stream",
          "name": "stdout",
          "text": [
            "Accuracy: 1.0000\n"
          ]
        }
      ]
    },
    {
      "cell_type": "code",
      "source": [
        "# Plot the learning curve for every classifier\n",
        "# Only use the training data when we want to adding the meta-data (SMOTE etc)\n",
        "# Plot the confusion matrix\n",
        "# Use also deep learning model to compare with traditional ML"
      ],
      "metadata": {
        "id": "N9iNmyDQjJ5U"
      },
      "execution_count": null,
      "outputs": []
    }
  ]
}